{
 "cells": [
  {
   "cell_type": "markdown",
   "metadata": {},
   "source": []
  },
  {
   "cell_type": "code",
   "execution_count": 2,
   "metadata": {},
   "outputs": [],
   "source": [
    "import pandas as pd\n",
    "from sklearn.model_selection import train_test_split, cross_val_score, GridSearchCV\n",
    "from sklearn.linear_model import LinearRegression, Ridge\n",
    "from sklearn.preprocessing import PolynomialFeatures\n",
    "from sklearn.metrics import root_mean_squared_error\n",
    "# Load Boston Housing Data from GitHub\n",
    "url = \"https://raw.githubusercontent.com/selva86/datasets/master/BostonHousing.csv\"\n",
    "df = pd.read_csv(url)\n",
    "# Features: ’rm’ (number of rooms) and ’lstat’ (lower status population, percentage)\n",
    "X = df[['rm', 'lstat']]\n",
    "y = df['medv'] # Target: ’medv’ (median house value in $1,000s)\n",
    "\n"
   ]
  },
  {
   "cell_type": "code",
   "execution_count": 18,
   "metadata": {},
   "outputs": [
    {
     "name": "stdout",
     "output_type": "stream",
     "text": [
      "Degree 1\n",
      "Linear Regression average MSE: 31.605042346619875\n",
      "Ridge Regression average MSE: 31.551288974302498\n",
      "Ridge Regression best alpha: 10 \n",
      "\n",
      "Degree 2\n",
      "Linear Regression average MSE: 23.474324700591257\n",
      "Ridge Regression average MSE: 22.83762009481931\n",
      "Ridge Regression best alpha: 100 \n",
      "\n",
      "Degree 3\n",
      "Linear Regression average MSE: 27.97201681936091\n",
      "Ridge Regression average MSE: 22.99773310403309\n",
      "Ridge Regression best alpha: 100 \n",
      "\n",
      "Degree 4\n",
      "Linear Regression average MSE: 30.10917225220887\n",
      "Ridge Regression average MSE: 22.578216443022605\n",
      "Ridge Regression best alpha: 100 \n",
      "\n",
      "Degree 5\n",
      "Linear Regression average MSE: 40.60410247000668\n",
      "Ridge Regression average MSE: 24.809472378601008\n",
      "Ridge Regression best alpha: 10 \n",
      "\n",
      "Overall best parameters\n",
      "Linear Regression best degree: 2\n",
      "Ridge Regression best degree: 4\n",
      "Ridge Regression best alpha: 100\n"
     ]
    },
    {
     "name": "stderr",
     "output_type": "stream",
     "text": [
      "C:\\Users\\rajan\\AppData\\Local\\Packages\\PythonSoftwareFoundation.Python.3.12_qbz5n2kfra8p0\\LocalCache\\local-packages\\Python312\\site-packages\\sklearn\\linear_model\\_ridge.py:216: LinAlgWarning: Ill-conditioned matrix (rcond=3.50705e-18): result may not be accurate.\n",
      "  return linalg.solve(A, Xy, assume_a=\"pos\", overwrite_a=True).T\n",
      "C:\\Users\\rajan\\AppData\\Local\\Packages\\PythonSoftwareFoundation.Python.3.12_qbz5n2kfra8p0\\LocalCache\\local-packages\\Python312\\site-packages\\sklearn\\linear_model\\_ridge.py:216: LinAlgWarning: Ill-conditioned matrix (rcond=3.53176e-18): result may not be accurate.\n",
      "  return linalg.solve(A, Xy, assume_a=\"pos\", overwrite_a=True).T\n",
      "C:\\Users\\rajan\\AppData\\Local\\Packages\\PythonSoftwareFoundation.Python.3.12_qbz5n2kfra8p0\\LocalCache\\local-packages\\Python312\\site-packages\\sklearn\\linear_model\\_ridge.py:216: LinAlgWarning: Ill-conditioned matrix (rcond=5.21979e-18): result may not be accurate.\n",
      "  return linalg.solve(A, Xy, assume_a=\"pos\", overwrite_a=True).T\n",
      "C:\\Users\\rajan\\AppData\\Local\\Packages\\PythonSoftwareFoundation.Python.3.12_qbz5n2kfra8p0\\LocalCache\\local-packages\\Python312\\site-packages\\sklearn\\linear_model\\_ridge.py:216: LinAlgWarning: Ill-conditioned matrix (rcond=2.98356e-18): result may not be accurate.\n",
      "  return linalg.solve(A, Xy, assume_a=\"pos\", overwrite_a=True).T\n",
      "C:\\Users\\rajan\\AppData\\Local\\Packages\\PythonSoftwareFoundation.Python.3.12_qbz5n2kfra8p0\\LocalCache\\local-packages\\Python312\\site-packages\\sklearn\\linear_model\\_ridge.py:216: LinAlgWarning: Ill-conditioned matrix (rcond=3.32944e-18): result may not be accurate.\n",
      "  return linalg.solve(A, Xy, assume_a=\"pos\", overwrite_a=True).T\n",
      "C:\\Users\\rajan\\AppData\\Local\\Packages\\PythonSoftwareFoundation.Python.3.12_qbz5n2kfra8p0\\LocalCache\\local-packages\\Python312\\site-packages\\sklearn\\linear_model\\_ridge.py:216: LinAlgWarning: Ill-conditioned matrix (rcond=3.45401e-17): result may not be accurate.\n",
      "  return linalg.solve(A, Xy, assume_a=\"pos\", overwrite_a=True).T\n",
      "C:\\Users\\rajan\\AppData\\Local\\Packages\\PythonSoftwareFoundation.Python.3.12_qbz5n2kfra8p0\\LocalCache\\local-packages\\Python312\\site-packages\\sklearn\\linear_model\\_ridge.py:216: LinAlgWarning: Ill-conditioned matrix (rcond=3.47474e-17): result may not be accurate.\n",
      "  return linalg.solve(A, Xy, assume_a=\"pos\", overwrite_a=True).T\n",
      "C:\\Users\\rajan\\AppData\\Local\\Packages\\PythonSoftwareFoundation.Python.3.12_qbz5n2kfra8p0\\LocalCache\\local-packages\\Python312\\site-packages\\sklearn\\linear_model\\_ridge.py:216: LinAlgWarning: Ill-conditioned matrix (rcond=5.08257e-17): result may not be accurate.\n",
      "  return linalg.solve(A, Xy, assume_a=\"pos\", overwrite_a=True).T\n",
      "C:\\Users\\rajan\\AppData\\Local\\Packages\\PythonSoftwareFoundation.Python.3.12_qbz5n2kfra8p0\\LocalCache\\local-packages\\Python312\\site-packages\\sklearn\\linear_model\\_ridge.py:216: LinAlgWarning: Ill-conditioned matrix (rcond=3.0009e-17): result may not be accurate.\n",
      "  return linalg.solve(A, Xy, assume_a=\"pos\", overwrite_a=True).T\n",
      "C:\\Users\\rajan\\AppData\\Local\\Packages\\PythonSoftwareFoundation.Python.3.12_qbz5n2kfra8p0\\LocalCache\\local-packages\\Python312\\site-packages\\sklearn\\linear_model\\_ridge.py:216: LinAlgWarning: Ill-conditioned matrix (rcond=3.30813e-17): result may not be accurate.\n",
      "  return linalg.solve(A, Xy, assume_a=\"pos\", overwrite_a=True).T\n"
     ]
    }
   ],
   "source": [
    "best_degree_linear = None\n",
    "best_degree_ridge = None\n",
    "best_alpha_ridge = None\n",
    "min_mse_linear = float('inf')\n",
    "min_mse_ridge = float('inf')\n",
    "\n",
    "X_train, X_test, y_train, y_test = train_test_split(X, y, test_size=0.2, random_state=42)\n",
    "linear_model = LinearRegression()\n",
    "ridge_model = Ridge()\n",
    "for i in range(1, 6):\n",
    "    poly = PolynomialFeatures(i)\n",
    "    X_train_poly = poly.fit_transform(X_train)\n",
    "    ridge_grid = { 'alpha': [0.1, 1, 10, 100] }\n",
    "\n",
    "    mse_score_linear = cross_val_score(linear_model, X_train_poly, y_train, cv=5, scoring='neg_mean_squared_error')\n",
    "    mse_score_linear = -mse_score_linear\n",
    "    mse_score_linear_avg = mse_score_linear.mean()\n",
    "\n",
    "    grid_search = GridSearchCV(estimator=ridge_model, param_grid=ridge_grid, scoring='neg_mean_squared_error', cv=5)\n",
    "    grid_search.fit(X_train_poly, y_train)\n",
    "    \n",
    "    ridge_mse = -grid_search.best_score_\n",
    "    ridge_alpha = grid_search.best_params_['alpha']\n",
    "    \n",
    "    if mse_score_linear_avg < min_mse_linear:\n",
    "        min_mse_linear = mse_score_linear_avg\n",
    "        best_degree_linear = i\n",
    "\n",
    "    if ridge_mse < min_mse_ridge:\n",
    "        min_mse_ridge = ridge_mse\n",
    "        best_degree_ridge = i\n",
    "        best_alpha_ridge = ridge_alpha\n",
    "\n",
    "    print(f'Degree {i}')\n",
    "    print('Linear Regression average MSE:', mse_score_linear_avg)\n",
    "    print('Ridge Regression average MSE:', ridge_mse)\n",
    "    print('Ridge Regression best alpha:', ridge_alpha, '\\n')\n",
    "    \n",
    "print('Overall best parameters')\n",
    "print('Linear Regression best degree:', best_degree_linear)\n",
    "print('Ridge Regression best degree:', best_degree_ridge)\n",
    "print('Ridge Regression best alpha:', best_alpha_ridge)\n"
   ]
  },
  {
   "cell_type": "code",
   "execution_count": 17,
   "metadata": {},
   "outputs": [
    {
     "name": "stdout",
     "output_type": "stream",
     "text": [
      "Linear Regression error: 36.48367311568473\n",
      "Ridge Regression error: 19.482105431320235\n"
     ]
    }
   ],
   "source": [
    "# Now we will train and test the models\n",
    "poly_best = PolynomialFeatures(best_degree_ridge)\n",
    "\n",
    "X_train_poly_best = poly_best.fit_transform(X_train)\n",
    "\n",
    "linear_model_best = LinearRegression().fit(X_train_poly_best, y_train)\n",
    "ridge_model_best = Ridge(alpha=best_alpha_ridge).fit(X_train_poly_best, y_train)\n",
    "\n",
    "X_test_poly = poly_best.transform(X_test)\n",
    "\n",
    "y_pred_linear = linear_model_best.predict(X_test_poly)\n",
    "y_pred_ridge = ridge_model_best.predict(X_test_poly)\n",
    "\n",
    "# MSE function is deprecated, so we use RMSE and square the score at the end\n",
    "mse_linear = root_mean_squared_error(y_test, y_pred_linear)\n",
    "mse_ridge = root_mean_squared_error(y_test, y_pred_ridge)\n",
    "print('Linear Regression error:', mse_linear**2)\n",
    "print('Ridge Regression error:', mse_ridge**2)"
   ]
  },
  {
   "cell_type": "code",
   "execution_count": null,
   "metadata": {},
   "outputs": [],
   "source": [
    "\"\"\"\n",
    "Questions\n",
    "\n",
    "Part C\n",
    "Ridge regression has a better MSE score, meaning in this case, it generalizes to new data better. In general, Ridge\n",
    "regression is less prone to overfitting due to penalization of high degrees, this means that for general datasets, \n",
    "ridge regression will usually generalize to new data better.\n",
    "\n",
    "Part D\n",
    "High degree polynomials can overfit due to their flexibilty. Ridge penalizes this by adding a regularization term\n",
    "(alpha) which is proportional to the sum of the squared coefficients. The larger the alpha & degree, the stronger\n",
    "the penalization. The choice of alpha can change how closely the model fits the data. A large degree can lead to\n",
    "overfitting, and a large alpha can lead to underfitting. The overfitting can be countered by a large enough alpha.\n",
    "\"\"\""
   ]
  }
 ],
 "metadata": {
  "kernelspec": {
   "display_name": "Python 3",
   "language": "python",
   "name": "python3"
  },
  "language_info": {
   "codemirror_mode": {
    "name": "ipython",
    "version": 3
   },
   "file_extension": ".py",
   "mimetype": "text/x-python",
   "name": "python",
   "nbconvert_exporter": "python",
   "pygments_lexer": "ipython3",
   "version": "3.12.7"
  }
 },
 "nbformat": 4,
 "nbformat_minor": 2
}
